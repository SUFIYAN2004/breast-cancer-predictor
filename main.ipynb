{
 "cells": [
  {
   "cell_type": "code",
   "execution_count": 43,
   "id": "53fc9e78",
   "metadata": {},
   "outputs": [],
   "source": [
    "import pandas as pd \n",
    "import numpy as np"
   ]
  },
  {
   "cell_type": "code",
   "execution_count": 44,
   "id": "5c133fc3",
   "metadata": {},
   "outputs": [
    {
     "data": {
      "text/html": [
       "<div>\n",
       "<style scoped>\n",
       "    .dataframe tbody tr th:only-of-type {\n",
       "        vertical-align: middle;\n",
       "    }\n",
       "\n",
       "    .dataframe tbody tr th {\n",
       "        vertical-align: top;\n",
       "    }\n",
       "\n",
       "    .dataframe thead th {\n",
       "        text-align: right;\n",
       "    }\n",
       "</style>\n",
       "<table border=\"1\" class=\"dataframe\">\n",
       "  <thead>\n",
       "    <tr style=\"text-align: right;\">\n",
       "      <th></th>\n",
       "      <th>Sample code number</th>\n",
       "      <th>Clump Thickness</th>\n",
       "      <th>Uniformity of Cell Size</th>\n",
       "      <th>Uniformity of Cell Shape</th>\n",
       "      <th>Marginal Adhesion</th>\n",
       "      <th>Single Epithelial Cell Size</th>\n",
       "      <th>Bare Nuclei</th>\n",
       "      <th>Bland Chromatin</th>\n",
       "      <th>Normal Nucleoli</th>\n",
       "      <th>Mitoses</th>\n",
       "      <th>Class</th>\n",
       "    </tr>\n",
       "  </thead>\n",
       "  <tbody>\n",
       "    <tr>\n",
       "      <th>678</th>\n",
       "      <td>776715</td>\n",
       "      <td>3</td>\n",
       "      <td>1</td>\n",
       "      <td>1</td>\n",
       "      <td>1</td>\n",
       "      <td>3</td>\n",
       "      <td>2</td>\n",
       "      <td>1</td>\n",
       "      <td>1</td>\n",
       "      <td>1</td>\n",
       "      <td>2</td>\n",
       "    </tr>\n",
       "    <tr>\n",
       "      <th>679</th>\n",
       "      <td>841769</td>\n",
       "      <td>2</td>\n",
       "      <td>1</td>\n",
       "      <td>1</td>\n",
       "      <td>1</td>\n",
       "      <td>2</td>\n",
       "      <td>1</td>\n",
       "      <td>1</td>\n",
       "      <td>1</td>\n",
       "      <td>1</td>\n",
       "      <td>2</td>\n",
       "    </tr>\n",
       "    <tr>\n",
       "      <th>680</th>\n",
       "      <td>888820</td>\n",
       "      <td>5</td>\n",
       "      <td>10</td>\n",
       "      <td>10</td>\n",
       "      <td>3</td>\n",
       "      <td>7</td>\n",
       "      <td>3</td>\n",
       "      <td>8</td>\n",
       "      <td>10</td>\n",
       "      <td>2</td>\n",
       "      <td>4</td>\n",
       "    </tr>\n",
       "    <tr>\n",
       "      <th>681</th>\n",
       "      <td>897471</td>\n",
       "      <td>4</td>\n",
       "      <td>8</td>\n",
       "      <td>6</td>\n",
       "      <td>4</td>\n",
       "      <td>3</td>\n",
       "      <td>4</td>\n",
       "      <td>10</td>\n",
       "      <td>6</td>\n",
       "      <td>1</td>\n",
       "      <td>4</td>\n",
       "    </tr>\n",
       "    <tr>\n",
       "      <th>682</th>\n",
       "      <td>897471</td>\n",
       "      <td>4</td>\n",
       "      <td>8</td>\n",
       "      <td>8</td>\n",
       "      <td>5</td>\n",
       "      <td>4</td>\n",
       "      <td>5</td>\n",
       "      <td>10</td>\n",
       "      <td>4</td>\n",
       "      <td>1</td>\n",
       "      <td>4</td>\n",
       "    </tr>\n",
       "  </tbody>\n",
       "</table>\n",
       "</div>"
      ],
      "text/plain": [
       "     Sample code number  Clump Thickness  Uniformity of Cell Size  \\\n",
       "678              776715                3                        1   \n",
       "679              841769                2                        1   \n",
       "680              888820                5                       10   \n",
       "681              897471                4                        8   \n",
       "682              897471                4                        8   \n",
       "\n",
       "     Uniformity of Cell Shape  Marginal Adhesion  Single Epithelial Cell Size  \\\n",
       "678                         1                  1                            3   \n",
       "679                         1                  1                            2   \n",
       "680                        10                  3                            7   \n",
       "681                         6                  4                            3   \n",
       "682                         8                  5                            4   \n",
       "\n",
       "     Bare Nuclei  Bland Chromatin  Normal Nucleoli  Mitoses  Class  \n",
       "678            2                1                1        1      2  \n",
       "679            1                1                1        1      2  \n",
       "680            3                8               10        2      4  \n",
       "681            4               10                6        1      4  \n",
       "682            5               10                4        1      4  "
      ]
     },
     "execution_count": 44,
     "metadata": {},
     "output_type": "execute_result"
    }
   ],
   "source": [
    "data = pd.read_csv(\"breast_cancer.csv\")\n",
    "data.tail()"
   ]
  },
  {
   "cell_type": "code",
   "execution_count": 45,
   "id": "fbade7ca",
   "metadata": {},
   "outputs": [
    {
     "data": {
      "text/plain": [
       "Class\n",
       "2    444\n",
       "4    239\n",
       "Name: count, dtype: int64"
      ]
     },
     "execution_count": 45,
     "metadata": {},
     "output_type": "execute_result"
    }
   ],
   "source": [
    "data['Class'].value_counts()\n"
   ]
  },
  {
   "cell_type": "code",
   "execution_count": 46,
   "id": "654e358c",
   "metadata": {},
   "outputs": [],
   "source": [
    "X = data.iloc[:, 1:-1].values\n",
    "y = data.iloc[:, -1]"
   ]
  },
  {
   "cell_type": "code",
   "execution_count": 47,
   "id": "74028f7a",
   "metadata": {},
   "outputs": [
    {
     "data": {
      "text/plain": [
       "array([[ 5,  1,  1, ...,  3,  1,  1],\n",
       "       [ 5,  4,  4, ...,  3,  2,  1],\n",
       "       [ 3,  1,  1, ...,  3,  1,  1],\n",
       "       ...,\n",
       "       [ 5, 10, 10, ...,  8, 10,  2],\n",
       "       [ 4,  8,  6, ..., 10,  6,  1],\n",
       "       [ 4,  8,  8, ..., 10,  4,  1]], shape=(683, 9))"
      ]
     },
     "execution_count": 47,
     "metadata": {},
     "output_type": "execute_result"
    }
   ],
   "source": [
    "X"
   ]
  },
  {
   "cell_type": "code",
   "execution_count": 48,
   "id": "119b0c3c",
   "metadata": {},
   "outputs": [
    {
     "data": {
      "text/plain": [
       "array([0, 0, 0, 0, 0, 1, 0, 0, 0, 0, 0, 0, 1, 0, 1, 1, 0, 0, 1, 0, 1, 1,\n",
       "       0, 0, 1, 0, 0, 0, 0, 0, 0, 1, 0, 0, 0, 1, 0, 1, 1, 1, 1, 1, 1, 0,\n",
       "       1, 0, 0, 1, 1, 1, 1, 1, 1, 1, 1, 1, 1, 1, 1, 0, 1, 1, 0, 1, 0, 1,\n",
       "       1, 0, 0, 1, 0, 1, 1, 0, 0, 0, 0, 0, 0, 0, 0, 0, 1, 1, 1, 1, 0, 0,\n",
       "       0, 0, 0, 0, 0, 0, 0, 0, 1, 1, 1, 1, 0, 1, 1, 1, 1, 1, 0, 1, 0, 1,\n",
       "       1, 1, 0, 0, 0, 1, 0, 0, 0, 0, 1, 1, 1, 0, 1, 0, 1, 0, 0, 0, 1, 0,\n",
       "       0, 0, 0, 0, 0, 0, 0, 1, 0, 0, 1, 0, 0, 1, 0, 1, 1, 0, 0, 1, 0, 0,\n",
       "       1, 1, 0, 0, 0, 0, 1, 1, 0, 0, 0, 0, 0, 1, 1, 1, 0, 1, 0, 1, 0, 0,\n",
       "       0, 1, 1, 0, 1, 1, 1, 0, 1, 1, 0, 0, 0, 0, 0, 0, 0, 0, 1, 1, 0, 0,\n",
       "       0, 1, 1, 0, 0, 0, 1, 1, 0, 1, 1, 1, 0, 0, 1, 0, 0, 1, 1, 1, 1, 0,\n",
       "       1, 1, 0, 1, 1, 1, 0, 1, 0, 1, 1, 1, 1, 0, 0, 0, 0, 0, 0, 1, 1, 0,\n",
       "       0, 1, 0, 1, 1, 1, 0, 0, 0, 0, 1, 1, 1, 1, 1, 0, 1, 1, 1, 0, 1, 0,\n",
       "       1, 1, 0, 0, 0, 0, 1, 0, 0, 1, 1, 1, 1, 1, 0, 1, 1, 0, 0, 1, 1, 0,\n",
       "       0, 1, 1, 0, 1, 0, 1, 1, 0, 0, 1, 0, 0, 0, 1, 0, 0, 1, 1, 0, 0, 1,\n",
       "       0, 1, 0, 0, 1, 0, 1, 1, 1, 0, 0, 1, 1, 0, 1, 0, 0, 1, 1, 0, 0, 0,\n",
       "       1, 0, 0, 0, 1, 1, 0, 0, 0, 1, 0, 0, 1, 1, 1, 1, 1, 1, 0, 0, 0, 0,\n",
       "       1, 1, 0, 0, 0, 0, 0, 0, 0, 0, 0, 0, 0, 0, 0, 1, 0, 0, 0, 0, 1, 0,\n",
       "       0, 0, 0, 1, 0, 0, 0, 0, 0, 0, 0, 0, 1, 0, 0, 0, 0, 0, 0, 0, 0, 0,\n",
       "       0, 1, 0, 1, 0, 1, 0, 0, 0, 0, 1, 0, 0, 0, 1, 0, 1, 0, 0, 0, 0, 0,\n",
       "       0, 0, 1, 1, 0, 0, 0, 1, 0, 0, 0, 0, 0, 0, 0, 0, 1, 0, 0, 0, 1, 0,\n",
       "       1, 1, 1, 0, 0, 0, 0, 0, 0, 0, 1, 1, 1, 0, 0, 0, 0, 0, 0, 0, 0, 0,\n",
       "       0, 0, 1, 0, 0, 1, 1, 0, 0, 0, 1, 1, 1, 0, 1, 0, 1, 0, 0, 0, 0, 0,\n",
       "       0, 0, 0, 0, 0, 0, 0, 1, 0, 0, 0, 0, 0, 0, 0, 1, 1, 0, 0, 0, 1, 0,\n",
       "       0, 1, 1, 0, 0, 0, 0, 0, 0, 1, 0, 0, 0, 0, 0, 0, 0, 0, 0, 0, 0, 0,\n",
       "       0, 0, 0, 1, 0, 0, 1, 0, 0, 0, 0, 0, 0, 0, 0, 0, 0, 0, 0, 0, 0, 0,\n",
       "       1, 0, 0, 1, 1, 1, 1, 0, 0, 1, 0, 0, 0, 0, 0, 0, 1, 1, 0, 0, 0, 1,\n",
       "       0, 1, 0, 1, 1, 1, 0, 1, 0, 0, 0, 0, 0, 0, 0, 0, 1, 1, 1, 0, 0, 1,\n",
       "       0, 1, 1, 1, 0, 0, 0, 0, 0, 0, 0, 0, 0, 0, 0, 0, 1, 0, 0, 0, 0, 0,\n",
       "       0, 1, 0, 0, 1, 0, 0, 0, 0, 0, 0, 0, 0, 0, 0, 0, 1, 0, 0, 0, 0, 0,\n",
       "       0, 0, 0, 0, 1, 0, 0, 0, 0, 0, 0, 0, 0, 0, 1, 1, 1, 0, 0, 0, 0, 0,\n",
       "       0, 0, 0, 0, 1, 1, 0, 0, 0, 0, 0, 0, 0, 0, 0, 1, 0, 0, 0, 0, 1, 1,\n",
       "       1])"
      ]
     },
     "execution_count": 48,
     "metadata": {},
     "output_type": "execute_result"
    }
   ],
   "source": [
    "from sklearn.preprocessing import LabelEncoder\n",
    "\n",
    "le = LabelEncoder()\n",
    "y = le.fit_transform(y)\n",
    "y"
   ]
  },
  {
   "cell_type": "code",
   "execution_count": 49,
   "id": "3381a88e",
   "metadata": {},
   "outputs": [],
   "source": [
    "from sklearn.model_selection import train_test_split\n",
    "\n",
    "X_train, X_test, y_train, y_test = train_test_split(X, y, test_size=0.20, random_state=42)"
   ]
  },
  {
   "cell_type": "code",
   "execution_count": 50,
   "id": "410d0214",
   "metadata": {},
   "outputs": [
    {
     "name": "stdout",
     "output_type": "stream",
     "text": [
      "Model: LogisticRegression\n",
      "Accuracy: 0.9562\n",
      "Precision: 0.9815\n",
      "----------------------------------------------------\n",
      "Model: DecisionTreeClassifier\n",
      "Accuracy: 0.9197\n",
      "Precision: 0.9608\n",
      "----------------------------------------------------\n",
      "Model: RandomForestClassifier\n",
      "Accuracy: 0.9489\n",
      "Precision: 0.9811\n",
      "----------------------------------------------------\n",
      "Model: SVC_rbf\n",
      "Accuracy: 0.9489\n",
      "Precision: 0.9636\n",
      "----------------------------------------------------\n",
      "Model: SVC_linear\n",
      "Accuracy: 0.9635\n",
      "Precision: 0.9818\n",
      "----------------------------------------------------\n",
      "Model: ExtraTreeClassifier\n",
      "Accuracy: 0.9343\n",
      "Precision: 0.9455\n",
      "----------------------------------------------------\n",
      "Model: GaussianNB\n",
      "Accuracy: 0.9562\n",
      "Precision: 0.9483\n",
      "----------------------------------------------------\n",
      "Model: KNeighborsClassifier\n",
      "Accuracy: 0.9489\n",
      "Precision: 0.9811\n",
      "----------------------------------------------------\n"
     ]
    }
   ],
   "source": [
    "from sklearn.linear_model import LogisticRegression\n",
    "from sklearn.tree import DecisionTreeClassifier\n",
    "from sklearn.ensemble import RandomForestClassifier\n",
    "from sklearn.svm import SVC\n",
    "from sklearn.tree import ExtraTreeClassifier\n",
    "from sklearn.naive_bayes import GaussianNB\n",
    "from sklearn.neighbors import KNeighborsClassifier\n",
    "from sklearn.metrics import accuracy_score, precision_score\n",
    "\n",
    "models = {\n",
    "    \"LogisticRegression\": LogisticRegression(),\n",
    "    \"DecisionTreeClassifier\": DecisionTreeClassifier(),\n",
    "    \"RandomForestClassifier\": RandomForestClassifier(),\n",
    "    \"SVC_rbf\": SVC(kernel='rbf'),\n",
    "    \"SVC_linear\": SVC(kernel='linear'),\n",
    "    \"ExtraTreeClassifier\": ExtraTreeClassifier(),\n",
    "    \"GaussianNB\": GaussianNB(),\n",
    "    \"KNeighborsClassifier\": KNeighborsClassifier()\n",
    "}\n",
    "\n",
    "# Train, predict, and report\n",
    "for name, model in models.items():\n",
    "    model.fit(X_train, y_train)\n",
    "    y_pred = model.predict(X_test)\n",
    "    print(f\"Model: {name}\")\n",
    "    print(f\"Accuracy: {accuracy_score(y_test, y_pred):.4f}\")\n",
    "    print(f\"Precision: {precision_score(y_test, y_pred):.4f}\")\n",
    "    print(\"----------------------------------------------------\")\n"
   ]
  },
  {
   "cell_type": "code",
   "execution_count": 51,
   "id": "32a4e5c5",
   "metadata": {},
   "outputs": [
    {
     "name": "stdout",
     "output_type": "stream",
     "text": [
      "                    Model  Accuracy  Precision\n",
      "4              SVC_linear  0.963504   0.981818\n",
      "0      LogisticRegression  0.956204   0.981481\n",
      "6              GaussianNB  0.956204   0.948276\n",
      "2  RandomForestClassifier  0.948905   0.981132\n",
      "5     ExtraTreeClassifier  0.948905   0.963636\n",
      "3                 SVC_rbf  0.948905   0.963636\n",
      "7    KNeighborsClassifier  0.948905   0.981132\n",
      "1  DecisionTreeClassifier  0.934307   0.962264\n"
     ]
    }
   ],
   "source": [
    "results = []\n",
    "\n",
    "for name, model in models.items():\n",
    "    model.fit(X_train, y_train)\n",
    "    y_pred = model.predict(X_test)\n",
    "    results.append({\n",
    "        \"Model\": name,\n",
    "        \"Accuracy\": accuracy_score(y_test, y_pred),\n",
    "        \"Precision\": precision_score(y_test, y_pred)\n",
    "    })\n",
    "\n",
    "df_results = pd.DataFrame(results).sort_values(by=\"Accuracy\", ascending=False)\n",
    "print(df_results)\n"
   ]
  },
  {
   "cell_type": "code",
   "execution_count": 53,
   "id": "d14ca738",
   "metadata": {},
   "outputs": [
    {
     "name": "stdout",
     "output_type": "stream",
     "text": [
      "Collecting seaborn\n",
      "  Using cached seaborn-0.13.2-py3-none-any.whl.metadata (5.4 kB)\n",
      "Requirement already satisfied: numpy!=1.24.0,>=1.20 in c:\\users\\suf48\\appdata\\local\\programs\\python\\python313\\lib\\site-packages (from seaborn) (2.2.6)\n",
      "Requirement already satisfied: pandas>=1.2 in c:\\users\\suf48\\appdata\\local\\programs\\python\\python313\\lib\\site-packages (from seaborn) (2.3.0)\n",
      "Requirement already satisfied: matplotlib!=3.6.1,>=3.4 in c:\\users\\suf48\\appdata\\local\\programs\\python\\python313\\lib\\site-packages (from seaborn) (3.10.3)\n",
      "Requirement already satisfied: contourpy>=1.0.1 in c:\\users\\suf48\\appdata\\local\\programs\\python\\python313\\lib\\site-packages (from matplotlib!=3.6.1,>=3.4->seaborn) (1.3.2)\n",
      "Requirement already satisfied: cycler>=0.10 in c:\\users\\suf48\\appdata\\local\\programs\\python\\python313\\lib\\site-packages (from matplotlib!=3.6.1,>=3.4->seaborn) (0.12.1)\n",
      "Requirement already satisfied: fonttools>=4.22.0 in c:\\users\\suf48\\appdata\\local\\programs\\python\\python313\\lib\\site-packages (from matplotlib!=3.6.1,>=3.4->seaborn) (4.58.2)\n",
      "Requirement already satisfied: kiwisolver>=1.3.1 in c:\\users\\suf48\\appdata\\local\\programs\\python\\python313\\lib\\site-packages (from matplotlib!=3.6.1,>=3.4->seaborn) (1.4.8)\n",
      "Requirement already satisfied: packaging>=20.0 in c:\\users\\suf48\\appdata\\local\\programs\\python\\python313\\lib\\site-packages (from matplotlib!=3.6.1,>=3.4->seaborn) (24.2)\n",
      "Requirement already satisfied: pillow>=8 in c:\\users\\suf48\\appdata\\local\\programs\\python\\python313\\lib\\site-packages (from matplotlib!=3.6.1,>=3.4->seaborn) (11.2.1)\n",
      "Requirement already satisfied: pyparsing>=2.3.1 in c:\\users\\suf48\\appdata\\local\\programs\\python\\python313\\lib\\site-packages (from matplotlib!=3.6.1,>=3.4->seaborn) (3.2.3)\n",
      "Requirement already satisfied: python-dateutil>=2.7 in c:\\users\\suf48\\appdata\\local\\programs\\python\\python313\\lib\\site-packages (from matplotlib!=3.6.1,>=3.4->seaborn) (2.9.0.post0)\n",
      "Requirement already satisfied: pytz>=2020.1 in c:\\users\\suf48\\appdata\\local\\programs\\python\\python313\\lib\\site-packages (from pandas>=1.2->seaborn) (2025.2)\n",
      "Requirement already satisfied: tzdata>=2022.7 in c:\\users\\suf48\\appdata\\local\\programs\\python\\python313\\lib\\site-packages (from pandas>=1.2->seaborn) (2025.2)\n",
      "Requirement already satisfied: six>=1.5 in c:\\users\\suf48\\appdata\\local\\programs\\python\\python313\\lib\\site-packages (from python-dateutil>=2.7->matplotlib!=3.6.1,>=3.4->seaborn) (1.17.0)\n",
      "Using cached seaborn-0.13.2-py3-none-any.whl (294 kB)\n",
      "Installing collected packages: seaborn\n",
      "Successfully installed seaborn-0.13.2\n"
     ]
    },
    {
     "name": "stderr",
     "output_type": "stream",
     "text": [
      "\n",
      "[notice] A new release of pip is available: 25.0.1 -> 25.1.1\n",
      "[notice] To update, run: python.exe -m pip install --upgrade pip\n"
     ]
    },
    {
     "data": {
      "image/png": "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",
      "text/plain": [
       "<Figure size 640x480 with 2 Axes>"
      ]
     },
     "metadata": {},
     "output_type": "display_data"
    }
   ],
   "source": [
    "!pip install seaborn\n",
    "from sklearn.metrics import confusion_matrix\n",
    "import seaborn as sns\n",
    "import matplotlib.pyplot as plt\n",
    "\n",
    "model = models['SVC_linear']  # your best model\n",
    "y_pred = model.predict(X_test)\n",
    "cm = confusion_matrix(y_test, y_pred)\n",
    "sns.heatmap(cm, annot=True, fmt='d', cmap='Blues')\n",
    "plt.xlabel(\"Predicted\")\n",
    "plt.ylabel(\"Actual\")\n",
    "plt.title(\"Confusion Matrix - SVC (linear)\")\n",
    "plt.show()\n"
   ]
  },
  {
   "cell_type": "code",
   "execution_count": 54,
   "id": "3c096478",
   "metadata": {},
   "outputs": [
    {
     "data": {
      "image/png": "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",
      "text/plain": [
       "<Figure size 640x480 with 1 Axes>"
      ]
     },
     "metadata": {},
     "output_type": "display_data"
    }
   ],
   "source": [
    "from sklearn.metrics import roc_curve, auc\n",
    "from sklearn.preprocessing import StandardScaler\n",
    "\n",
    "# SVC doesn't provide probabilities unless you enable it:\n",
    "svc_linear = SVC(kernel='linear', probability=True)\n",
    "svc_linear.fit(X_train, y_train)\n",
    "y_score = svc_linear.predict_proba(X_test)[:, 1]\n",
    "\n",
    "fpr, tpr, _ = roc_curve(y_test, y_score)\n",
    "roc_auc = auc(fpr, tpr)\n",
    "\n",
    "plt.plot(fpr, tpr, label=f\"ROC curve (AUC = {roc_auc:.2f})\")\n",
    "plt.plot([0, 1], [0, 1], 'k--')\n",
    "plt.xlabel(\"False Positive Rate\")\n",
    "plt.ylabel(\"True Positive Rate\")\n",
    "plt.title(\"ROC Curve - SVC (linear)\")\n",
    "plt.legend()\n",
    "plt.show()\n"
   ]
  },
  {
   "cell_type": "code",
   "execution_count": 55,
   "id": "177a134d",
   "metadata": {},
   "outputs": [
    {
     "name": "stdout",
     "output_type": "stream",
     "text": [
      "Cross-validated accuracy: 0.9678 ± 0.0157\n"
     ]
    }
   ],
   "source": [
    "from sklearn.model_selection import cross_val_score\n",
    "\n",
    "scores = cross_val_score(SVC(kernel='linear'), X, y, cv=5, scoring='accuracy')\n",
    "print(f\"Cross-validated accuracy: {scores.mean():.4f} ± {scores.std():.4f}\")\n"
   ]
  },
  {
   "cell_type": "code",
   "execution_count": 56,
   "id": "6307592e",
   "metadata": {},
   "outputs": [
    {
     "data": {
      "text/plain": [
       "['svc_linear_model.pkl']"
      ]
     },
     "execution_count": 56,
     "metadata": {},
     "output_type": "execute_result"
    }
   ],
   "source": [
    "import joblib\n",
    "\n",
    "# Save model\n",
    "joblib.dump(svc_linear, \"svc_linear_model.pkl\")"
   ]
  },
  {
   "cell_type": "code",
   "execution_count": 57,
   "id": "f9fd43cd",
   "metadata": {},
   "outputs": [
    {
     "name": "stdout",
     "output_type": "stream",
     "text": [
      "Prediction: [0]\n"
     ]
    }
   ],
   "source": [
    "import numpy as np\n",
    "import joblib\n",
    "\n",
    "# Load the trained model\n",
    "model = joblib.load(\"svc_linear_model.pkl\")\n",
    "\n",
    ",
    "input_data = np.array([[5, 1, 1, 1, 2, 1, 3, 1, 1]])\n",
    "\n",
    "# Predict\n",
    "prediction = model.predict(input_data)\n",
    "print(\"Prediction:\", prediction)  # Output: 0 (benign) or 1 (malignant)\n"
   ]
  },
  {
   "cell_type": "code",
   "execution_count": null,
   "id": "2d5ac7d6",
   "metadata": {},
   "outputs": [],
   "source": []
  }
 ],
 "metadata": {
  "kernelspec": {
   "display_name": "Python 3",
   "language": "python",
   "name": "python3"
  },
  "language_info": {
   "codemirror_mode": {
    "name": "ipython",
    "version": 3
   },
   "file_extension": ".py",
   "mimetype": "text/x-python",
   "name": "python",
   "nbconvert_exporter": "python",
   "pygments_lexer": "ipython3",
   "version": "3.13.3"
  }
 },
 "nbformat": 4,
 "nbformat_minor": 5
}
